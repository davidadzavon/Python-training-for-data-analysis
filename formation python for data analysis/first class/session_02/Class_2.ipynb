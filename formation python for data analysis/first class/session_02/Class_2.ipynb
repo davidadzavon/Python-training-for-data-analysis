{
 "cells": [
  {
   "cell_type": "markdown",
   "id": "bf7e96ed",
   "metadata": {},
   "source": [
    "# Welcome to the Second class of Python for data analysis"
   ]
  },
  {
   "cell_type": "markdown",
   "id": "020d5930",
   "metadata": {},
   "source": [
    "1- Indexing"
   ]
  },
  {
   "cell_type": "code",
   "execution_count": null,
   "id": "0ecf6a1b",
   "metadata": {},
   "outputs": [],
   "source": [
    "colors = ['red', 'blue', 'green', 'black', 'white']"
   ]
  },
  {
   "cell_type": "code",
   "execution_count": null,
   "id": "bf95d15b",
   "metadata": {},
   "outputs": [],
   "source": [
    "colors[3:]"
   ]
  },
  {
   "cell_type": "code",
   "execution_count": null,
   "id": "3e1092a3",
   "metadata": {},
   "outputs": [],
   "source": [
    "colors[::2]"
   ]
  },
  {
   "cell_type": "code",
   "execution_count": null,
   "id": "d432ae51",
   "metadata": {},
   "outputs": [],
   "source": [
    "colors[2:4]"
   ]
  },
  {
   "cell_type": "markdown",
   "id": "a2145308",
   "metadata": {},
   "source": [
    "2-Add and Remove"
   ]
  },
  {
   "cell_type": "code",
   "execution_count": null,
   "id": "fdb0f9fa",
   "metadata": {},
   "outputs": [],
   "source": [
    "colors = ['red', 'blue', 'green', 'black', 'white']"
   ]
  },
  {
   "cell_type": "code",
   "execution_count": null,
   "id": "dd1e25e2",
   "metadata": {},
   "outputs": [],
   "source": [
    "colors.append('pink')"
   ]
  },
  {
   "cell_type": "code",
   "execution_count": null,
   "id": "f785c69d",
   "metadata": {},
   "outputs": [],
   "source": [
    "colors.pop()"
   ]
  },
  {
   "cell_type": "code",
   "execution_count": null,
   "id": "7cba3075",
   "metadata": {},
   "outputs": [],
   "source": [
    "colors.extend(['pink', 'purple'])\n",
    "colors"
   ]
  },
  {
   "cell_type": "code",
   "execution_count": null,
   "id": "bcef72f5",
   "metadata": {},
   "outputs": [],
   "source": [
    "colors = colors[:-2]"
   ]
  },
  {
   "cell_type": "code",
   "execution_count": null,
   "id": "ddd2d8a2",
   "metadata": {},
   "outputs": [],
   "source": [
    "rcolors = colors[::-1]"
   ]
  },
  {
   "cell_type": "code",
   "execution_count": null,
   "id": "82aece16",
   "metadata": {},
   "outputs": [],
   "source": [
    "rcolors"
   ]
  },
  {
   "cell_type": "code",
   "execution_count": null,
   "id": "293b3aa9",
   "metadata": {},
   "outputs": [],
   "source": [
    "rcolors2 = list(colors)"
   ]
  },
  {
   "cell_type": "code",
   "execution_count": null,
   "id": "e81f3872",
   "metadata": {},
   "outputs": [],
   "source": [
    "rcolors2"
   ]
  },
  {
   "cell_type": "markdown",
   "id": "7a5ac799",
   "metadata": {},
   "source": [
    "3-Reverse"
   ]
  },
  {
   "cell_type": "code",
   "execution_count": null,
   "id": "3ecf13e6",
   "metadata": {},
   "outputs": [],
   "source": [
    "rcolors2.reverse()"
   ]
  },
  {
   "cell_type": "code",
   "execution_count": null,
   "id": "3a310911",
   "metadata": {},
   "outputs": [],
   "source": [
    "rcolors2"
   ]
  },
  {
   "cell_type": "markdown",
   "id": "662267fe",
   "metadata": {},
   "source": [
    "4-Concatenate"
   ]
  },
  {
   "cell_type": "code",
   "execution_count": null,
   "id": "c7207899",
   "metadata": {},
   "outputs": [],
   "source": [
    "rcolors + colors"
   ]
  },
  {
   "cell_type": "code",
   "execution_count": null,
   "id": "3e242758",
   "metadata": {},
   "outputs": [],
   "source": [
    "rcolors * 2"
   ]
  },
  {
   "cell_type": "markdown",
   "id": "84d472b9",
   "metadata": {},
   "source": [
    "5-Sort"
   ]
  },
  {
   "cell_type": "code",
   "execution_count": null,
   "id": "e12980b6",
   "metadata": {},
   "outputs": [],
   "source": [
    "sorted(rcolors)"
   ]
  },
  {
   "cell_type": "code",
   "execution_count": null,
   "id": "6a0b41ed",
   "metadata": {},
   "outputs": [],
   "source": [
    "rcolors"
   ]
  },
  {
   "cell_type": "code",
   "execution_count": null,
   "id": "25503738",
   "metadata": {},
   "outputs": [],
   "source": [
    "colors.sort()"
   ]
  },
  {
   "cell_type": "code",
   "execution_count": null,
   "id": "2f54d180",
   "metadata": {},
   "outputs": [],
   "source": [
    "rcolors"
   ]
  },
  {
   "cell_type": "markdown",
   "id": "db9719a8",
   "metadata": {},
   "source": [
    "6-Replace"
   ]
  },
  {
   "cell_type": "code",
   "execution_count": null,
   "id": "befb37a4",
   "metadata": {},
   "outputs": [],
   "source": [
    "a = \"hello, world!\""
   ]
  },
  {
   "cell_type": "code",
   "execution_count": null,
   "id": "a1cacecf",
   "metadata": {},
   "outputs": [],
   "source": [
    "a[3:6]"
   ]
  },
  {
   "cell_type": "code",
   "execution_count": null,
   "id": "1dd0f68a",
   "metadata": {},
   "outputs": [],
   "source": [
    "a[2:10:2]"
   ]
  },
  {
   "cell_type": "code",
   "execution_count": null,
   "id": "5ee3bfa8",
   "metadata": {},
   "outputs": [],
   "source": [
    "a[::3]"
   ]
  },
  {
   "cell_type": "code",
   "execution_count": null,
   "id": "096cad02",
   "metadata": {},
   "outputs": [],
   "source": [
    "a.replace('l', 'z', 1)"
   ]
  },
  {
   "cell_type": "code",
   "execution_count": null,
   "id": "ada4d736",
   "metadata": {},
   "outputs": [],
   "source": [
    "a.replace('l', 'z')"
   ]
  },
  {
   "cell_type": "markdown",
   "id": "a5b046f0",
   "metadata": {},
   "source": [
    "7- Dictionnary"
   ]
  },
  {
   "cell_type": "code",
   "execution_count": null,
   "id": "795ab58c",
   "metadata": {},
   "outputs": [],
   "source": [
    "tel = {'emmanuelle': 5752, 'sebastian': 5578}"
   ]
  },
  {
   "cell_type": "code",
   "execution_count": null,
   "id": "a50f40ef",
   "metadata": {},
   "outputs": [],
   "source": [
    "tel['francis'] = 5915"
   ]
  },
  {
   "cell_type": "code",
   "execution_count": null,
   "id": "4f15811d",
   "metadata": {},
   "outputs": [],
   "source": [
    "tel"
   ]
  },
  {
   "cell_type": "code",
   "execution_count": null,
   "id": "a3e17e16",
   "metadata": {},
   "outputs": [],
   "source": [
    "tel['sebastian']"
   ]
  },
  {
   "cell_type": "code",
   "execution_count": null,
   "id": "152e4bb3",
   "metadata": {},
   "outputs": [],
   "source": [
    "tel.keys()"
   ]
  },
  {
   "cell_type": "code",
   "execution_count": null,
   "id": "ebbb238e",
   "metadata": {},
   "outputs": [],
   "source": [
    "tel.values()"
   ]
  },
  {
   "cell_type": "markdown",
   "id": "907502af",
   "metadata": {},
   "source": [
    "8-Tuple"
   ]
  },
  {
   "cell_type": "code",
   "execution_count": null,
   "id": "84cb9f60",
   "metadata": {},
   "outputs": [],
   "source": [
    "t = 12345, 54321, 'hello!'"
   ]
  },
  {
   "cell_type": "code",
   "execution_count": null,
   "id": "731f0e52",
   "metadata": {},
   "outputs": [],
   "source": [
    "t[0]"
   ]
  },
  {
   "cell_type": "code",
   "execution_count": null,
   "id": "0abd01c0",
   "metadata": {},
   "outputs": [],
   "source": [
    "t"
   ]
  },
  {
   "cell_type": "markdown",
   "id": "1af5395f",
   "metadata": {},
   "source": [
    "9- Defining functions"
   ]
  },
  {
   "cell_type": "code",
   "execution_count": null,
   "id": "44a35866",
   "metadata": {},
   "outputs": [],
   "source": [
    "def test():\n",
    "    print('in test function')\n",
    "    \n",
    "test()"
   ]
  },
  {
   "cell_type": "markdown",
   "id": "8291b818",
   "metadata": {},
   "source": [
    "10-Use of return"
   ]
  },
  {
   "cell_type": "code",
   "execution_count": null,
   "id": "05ebe04a",
   "metadata": {},
   "outputs": [],
   "source": [
    "def disk_area(radius):\n",
    "    return 3.14 * radius * radius\n",
    "\n",
    "disk_area(1.5)"
   ]
  },
  {
   "cell_type": "code",
   "execution_count": null,
   "id": "df7055e4",
   "metadata": {},
   "outputs": [],
   "source": [
    "def double_it(x):\n",
    "    return x * 2\n",
    "double_it(3)"
   ]
  },
  {
   "cell_type": "code",
   "execution_count": null,
   "id": "9c5d7494",
   "metadata": {},
   "outputs": [],
   "source": [
    "double_it(3)"
   ]
  },
  {
   "cell_type": "markdown",
   "id": "68823177",
   "metadata": {},
   "source": [
    "11-Catching exceptions"
   ]
  },
  {
   "cell_type": "code",
   "execution_count": null,
   "id": "39900de9",
   "metadata": {},
   "outputs": [],
   "source": [
    "while True:\n",
    "    try:\n",
    "        x = int(raw_input('Please enter a number: '))\n",
    "        break\n",
    "    except ValueError:\n",
    "        print('That was no valid number. Try again...')"
   ]
  },
  {
   "cell_type": "code",
   "execution_count": null,
   "id": "fb8ce092",
   "metadata": {},
   "outputs": [],
   "source": [
    "try:\n",
    "    x = int(raw_input('Please enter a number: '))\n",
    "finally:\n",
    "    print('Thank you for your input')"
   ]
  },
  {
   "cell_type": "code",
   "execution_count": null,
   "id": "5b2bc7ec",
   "metadata": {},
   "outputs": [],
   "source": [
    "def print_sorted(collection):\n",
    "    try:\n",
    "        collection.sort()\n",
    "except AttributeError:\n",
    "    pass\n",
    "print(collection)\n",
    "\n",
    "print_sorted([1, 3, 2])"
   ]
  },
  {
   "cell_type": "markdown",
   "id": "0470c0fd",
   "metadata": {},
   "source": [
    "# 12-Numpy"
   ]
  },
  {
   "cell_type": "code",
   "execution_count": null,
   "id": "0baac8d1",
   "metadata": {},
   "outputs": [],
   "source": [
    "import numpy as np"
   ]
  },
  {
   "cell_type": "code",
   "execution_count": null,
   "id": "43342738",
   "metadata": {},
   "outputs": [],
   "source": [
    "a = np.array([0, 1, 2, 3])"
   ]
  },
  {
   "cell_type": "code",
   "execution_count": null,
   "id": "f7848fa1",
   "metadata": {},
   "outputs": [],
   "source": [
    "a"
   ]
  },
  {
   "cell_type": "code",
   "execution_count": null,
   "id": "f3eee400",
   "metadata": {},
   "outputs": [],
   "source": [
    "a = np.arange(1000)"
   ]
  },
  {
   "cell_type": "code",
   "execution_count": null,
   "id": "1af692c2",
   "metadata": {},
   "outputs": [],
   "source": [
    "b = np.array([[0, 1, 2], [3, 4, 5]])"
   ]
  },
  {
   "cell_type": "code",
   "execution_count": null,
   "id": "bf24d429",
   "metadata": {},
   "outputs": [],
   "source": [
    "b.ndim"
   ]
  },
  {
   "cell_type": "code",
   "execution_count": null,
   "id": "87370b62",
   "metadata": {},
   "outputs": [],
   "source": [
    "b.shape"
   ]
  },
  {
   "cell_type": "code",
   "execution_count": null,
   "id": "610d752b",
   "metadata": {},
   "outputs": [],
   "source": [
    "len(b)"
   ]
  },
  {
   "cell_type": "code",
   "execution_count": null,
   "id": "bfe6f923",
   "metadata": {},
   "outputs": [],
   "source": [
    "c = np.array([[[1], [2]], [[3], [4]]])\n",
    "c"
   ]
  },
  {
   "cell_type": "code",
   "execution_count": null,
   "id": "040d7bf1",
   "metadata": {},
   "outputs": [],
   "source": [
    "a = np.arange(10)"
   ]
  },
  {
   "cell_type": "code",
   "execution_count": null,
   "id": "5da88be7",
   "metadata": {},
   "outputs": [],
   "source": [
    "b = np.arange(1, 9, 2)"
   ]
  },
  {
   "cell_type": "code",
   "execution_count": null,
   "id": "ca4641f2",
   "metadata": {},
   "outputs": [],
   "source": [
    "c = np.linspace(0, 1, 6)"
   ]
  },
  {
   "cell_type": "code",
   "execution_count": null,
   "id": "7a727f82",
   "metadata": {},
   "outputs": [],
   "source": [
    "a = np.ones((3, 3))"
   ]
  },
  {
   "cell_type": "code",
   "execution_count": null,
   "id": "32bfb3ae",
   "metadata": {},
   "outputs": [],
   "source": [
    "b = np.zeros((2, 2))"
   ]
  },
  {
   "cell_type": "code",
   "execution_count": null,
   "id": "1f9c0695",
   "metadata": {},
   "outputs": [],
   "source": [
    "c = np.eye(3)"
   ]
  },
  {
   "cell_type": "code",
   "execution_count": null,
   "id": "64ecbada",
   "metadata": {},
   "outputs": [],
   "source": [
    "d = np.diag(np.array([1, 2, 3, 4]))"
   ]
  },
  {
   "cell_type": "code",
   "execution_count": null,
   "id": "817c4311",
   "metadata": {},
   "outputs": [],
   "source": [
    "a = np.random.rand(4)"
   ]
  },
  {
   "cell_type": "code",
   "execution_count": null,
   "id": "1087103a",
   "metadata": {},
   "outputs": [],
   "source": [
    "np.random.seed(1234)"
   ]
  },
  {
   "cell_type": "code",
   "execution_count": null,
   "id": "5b959b43",
   "metadata": {},
   "outputs": [],
   "source": [
    "b = np.random.randn(4)"
   ]
  },
  {
   "cell_type": "code",
   "execution_count": null,
   "id": "3d81392b",
   "metadata": {},
   "outputs": [],
   "source": [
    "import matplotlib.pyplot as plt\n",
    "x = np.linspace(0, 3, 20)\n",
    "y = np.linspace(0, 9, 20)"
   ]
  },
  {
   "cell_type": "code",
   "execution_count": null,
   "id": "a6987b25",
   "metadata": {},
   "outputs": [],
   "source": [
    "plt.plot(x, y)"
   ]
  },
  {
   "cell_type": "code",
   "execution_count": null,
   "id": "edf3e18a",
   "metadata": {},
   "outputs": [],
   "source": [
    "plt.plot(x, y, 'o')"
   ]
  },
  {
   "cell_type": "code",
   "execution_count": null,
   "id": "69b7566b",
   "metadata": {},
   "outputs": [],
   "source": [
    "image = np.random.rand(30, 30)\n",
    "plt.imshow(image, cmap=plt.cm.hot)\n",
    "plt.colorbar()"
   ]
  }
 ],
 "metadata": {
  "kernelspec": {
   "display_name": "Python 3 (ipykernel)",
   "language": "python",
   "name": "python3"
  },
  "language_info": {
   "codemirror_mode": {
    "name": "ipython",
    "version": 3
   },
   "file_extension": ".py",
   "mimetype": "text/x-python",
   "name": "python",
   "nbconvert_exporter": "python",
   "pygments_lexer": "ipython3",
   "version": "3.9.13"
  }
 },
 "nbformat": 4,
 "nbformat_minor": 5
}
